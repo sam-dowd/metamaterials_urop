{
 "cells": [
  {
   "cell_type": "code",
   "execution_count": 6,
   "metadata": {},
   "outputs": [],
   "source": [
    "import torch\n",
    "import numpy as np\n",
    "from collections import Counter\n",
    "from torch.utils.data import DataLoader\n",
    "from tqdm import tqdm\n",
    "from waveguide_dataset import WaveguideDataset  # or waveguide_dataset_no_normalize\n",
    "from matplotlib import pyplot as plt\n",
    "from waveguide_dataset_no_normalize import WaveguideDatasetnonormal\n",
    "dataset = WaveguideDatasetnonormal('train_test_split.h5')\n",
    "# Load dataset\n",
    "# dataset = WaveguideDataset('train_test_split.h5')\n",
    "loader = DataLoader(dataset, batch_size=512, shuffle=False)\n",
    "\n",
    "# Store mode vectors (first 4 entries of cond)\n"
   ]
  },
  {
   "cell_type": "code",
   "execution_count": 7,
   "metadata": {},
   "outputs": [
    {
     "name": "stderr",
     "output_type": "stream",
     "text": [
      "100%|██████████| 2147/2147 [05:38<00:00,  6.33it/s]\n"
     ]
    }
   ],
   "source": [
    "all_modes = []\n",
    "all_weights = []\n",
    "all_waveguides = []\n",
    "all_params = []\n",
    "\n",
    "for cond, params, waveguides in tqdm(loader):\n",
    "    modes = cond[:, :4]  # Extract first 4 elements\n",
    "    weights = cond[:, 4:]\n",
    "\n",
    "    all_modes.append(modes.numpy())\n",
    "    all_weights.append(weights.numpy())\n",
    "    all_params.append(params)\n",
    "    all_waveguides.append(waveguides)\n"
   ]
  },
  {
   "cell_type": "code",
   "execution_count": 12,
   "metadata": {},
   "outputs": [
    {
     "name": "stdout",
     "output_type": "stream",
     "text": [
      "Total unique (order-agnostic) modes: 908676\n",
      "Number of repeated mode vectors: 12110\n",
      "Sample of repeated sorted modes (rounded to 5 decimals):\n",
      "Sorted mode: (np.float32(0.0), np.float32(0.0), np.float32(0.0), np.float32(1.498)), Count: 189\n",
      "Sorted mode: (np.float32(0.0), np.float32(0.0), np.float32(0.0), np.float32(1.425)), Count: 184\n",
      "Sorted mode: (np.float32(0.0), np.float32(0.0), np.float32(0.0), np.float32(1.376)), Count: 184\n",
      "Sorted mode: (np.float32(0.0), np.float32(0.0), np.float32(0.0), np.float32(1.422)), Count: 183\n",
      "Sorted mode: (np.float32(0.0), np.float32(0.0), np.float32(0.0), np.float32(1.483)), Count: 182\n",
      "Sorted mode: (np.float32(0.0), np.float32(0.0), np.float32(0.0), np.float32(1.464)), Count: 182\n",
      "Sorted mode: (np.float32(0.0), np.float32(0.0), np.float32(0.0), np.float32(1.421)), Count: 182\n",
      "Sorted mode: (np.float32(0.0), np.float32(0.0), np.float32(0.0), np.float32(1.328)), Count: 181\n",
      "Sorted mode: (np.float32(0.0), np.float32(0.0), np.float32(0.0), np.float32(1.548)), Count: 181\n",
      "Sorted mode: (np.float32(0.0), np.float32(0.0), np.float32(0.0), np.float32(1.462)), Count: 181\n"
     ]
    }
   ],
   "source": [
    "mode_strs = [tuple(np.round(np.sort(mode), decimals=3)) for mode in all_modes]\n",
    "\n",
    "# Count occurrences\n",
    "mode_counter = Counter(mode_strs)\n",
    "\n",
    "# Find duplicates\n",
    "duplicates = {mode: count for mode, count in mode_counter.items() if count > 1}\n",
    "\n",
    "print(f\"Total unique (order-agnostic) modes: {len(mode_counter)}\")\n",
    "print(f\"Number of repeated mode vectors: {len(duplicates)}\")\n",
    "print(\"Sample of repeated sorted modes (rounded to 5 decimals):\")\n",
    "\n",
    "top_duplicates = sorted(duplicates.items(), key=lambda item: item[1], reverse=True)[:10]\n",
    "\n",
    "for mode, count in top_duplicates:  # show first 10\n",
    "    print(f\"Sorted mode: {mode}, Count: {count}\")\n"
   ]
  },
  {
   "cell_type": "code",
   "execution_count": 23,
   "metadata": {},
   "outputs": [
    {
     "name": "stdout",
     "output_type": "stream",
     "text": [
      "Total unique (mode, weight) tuples: 937084\n",
      "Number of repeated (mode, weight) tuples: 15174\n",
      "Top 10 most duplicated (mode, weight) pairs (rounded to 3 decimals):\n",
      "((np.float32(0.0), np.float32(0.0)), (np.float32(0.0), np.float32(0.0)), (np.float32(0.0), np.float32(0.0)), (np.float32(1.451), np.float32(99.0))), Count: 65\n",
      "((np.float32(0.0), np.float32(0.0)), (np.float32(0.0), np.float32(0.0)), (np.float32(0.0), np.float32(0.0)), (np.float32(1.43), np.float32(99.0))), Count: 63\n",
      "((np.float32(0.0), np.float32(0.0)), (np.float32(0.0), np.float32(0.0)), (np.float32(0.0), np.float32(0.0)), (np.float32(1.52), np.float32(99.0))), Count: 60\n",
      "((np.float32(0.0), np.float32(0.0)), (np.float32(0.0), np.float32(0.0)), (np.float32(0.0), np.float32(0.0)), (np.float32(1.408), np.float32(99.0))), Count: 59\n",
      "((np.float32(0.0), np.float32(0.0)), (np.float32(0.0), np.float32(0.0)), (np.float32(0.0), np.float32(0.0)), (np.float32(1.571), np.float32(99.0))), Count: 59\n",
      "((np.float32(0.0), np.float32(0.0)), (np.float32(0.0), np.float32(0.0)), (np.float32(0.0), np.float32(0.0)), (np.float32(1.523), np.float32(99.0))), Count: 58\n",
      "((np.float32(0.0), np.float32(0.0)), (np.float32(0.0), np.float32(0.0)), (np.float32(0.0), np.float32(0.0)), (np.float32(1.427), np.float32(99.0))), Count: 58\n",
      "((np.float32(0.0), np.float32(0.0)), (np.float32(0.0), np.float32(0.0)), (np.float32(0.0), np.float32(0.0)), (np.float32(1.498), np.float32(99.0))), Count: 58\n",
      "((np.float32(0.0), np.float32(0.0)), (np.float32(0.0), np.float32(0.0)), (np.float32(0.0), np.float32(0.0)), (np.float32(1.58), np.float32(99.0))), Count: 57\n",
      "((np.float32(0.0), np.float32(0.0)), (np.float32(0.0), np.float32(0.0)), (np.float32(0.0), np.float32(0.0)), (np.float32(1.584), np.float32(99.0))), Count: 56\n"
     ]
    }
   ],
   "source": [
    "from collections import Counter\n",
    "import numpy as np\n",
    "\n",
    "mode_decimals = 3\n",
    "weight_decimals = 0\n",
    "\n",
    "paired_and_sorted = []\n",
    "\n",
    "for mode_batch, weight_batch in zip(all_modes, all_weights):\n",
    "    mode_batch = np.squeeze(np.array(mode_batch))    # [B, 4]\n",
    "    weight_batch = np.squeeze(np.array(weight_batch))  # [B, 4]\n",
    "\n",
    "    # Ensure 2D\n",
    "    if mode_batch.ndim == 1:\n",
    "        mode_batch = mode_batch.reshape(1, -1)\n",
    "    if weight_batch.ndim == 1:\n",
    "        weight_batch = weight_batch.reshape(1, -1)\n",
    "\n",
    "    for mode, weight in zip(mode_batch, weight_batch):\n",
    "        rounded_mode = np.round(mode, mode_decimals)\n",
    "        rounded_weight = np.round(weight, weight_decimals)\n",
    "\n",
    "        pair = list(zip(rounded_mode, rounded_weight))  # [(mode1, wt1), ..., (mode4, wt4)]\n",
    "        pair_sorted = tuple(sorted(pair, key=lambda x: float(x[0])))  # sort by mode value\n",
    "        paired_and_sorted.append(pair_sorted)\n",
    "\n",
    "# Count duplicates\n",
    "counter = Counter(paired_and_sorted)\n",
    "duplicates = {k: v for k, v in counter.items() if v > 1}\n",
    "\n",
    "# Top 10 repeated\n",
    "top_duplicates = sorted(duplicates.items(), key=lambda item: item[1], reverse=True)[:10]\n",
    "\n",
    "print(f\"Total unique (mode, weight) tuples: {len(counter)}\")\n",
    "print(f\"Number of repeated (mode, weight) tuples: {len(duplicates)}\")\n",
    "print(\"Top 10 most duplicated (mode, weight) pairs (rounded to 3 decimals):\")\n",
    "for pair, count in top_duplicates:\n",
    "    print(f\"{pair}, Count: {count}\")\n"
   ]
  },
  {
   "cell_type": "code",
   "execution_count": 19,
   "metadata": {},
   "outputs": [
    {
     "name": "stderr",
     "output_type": "stream",
     "text": [
      "Flattening: 100%|██████████| 2147/2147 [00:00<00:00, 19019.16it/s]\n"
     ]
    },
    {
     "name": "stdout",
     "output_type": "stream",
     "text": [
      "total number of items: 1098910\n",
      "Total items above 90% threshold: 896152\n",
      "Percentage of total data bove 90% threshold: 81.55%\n"
     ]
    },
    {
     "name": "stderr",
     "output_type": "stream",
     "text": [
      "Flattening: 100%|██████████| 2147/2147 [00:00<00:00, 19846.54it/s]\n"
     ]
    },
    {
     "name": "stdout",
     "output_type": "stream",
     "text": [
      "total number of items: 1098910\n",
      "Total items above 85% threshold: 926849\n",
      "Percentage of total data bove 85% threshold: 84.34%\n"
     ]
    },
    {
     "name": "stderr",
     "output_type": "stream",
     "text": [
      "Flattening: 100%|██████████| 2147/2147 [00:00<00:00, 19536.32it/s]\n"
     ]
    },
    {
     "name": "stdout",
     "output_type": "stream",
     "text": [
      "total number of items: 1098910\n",
      "Total items above 80% threshold: 957289\n",
      "Percentage of total data bove 80% threshold: 87.11%\n"
     ]
    },
    {
     "data": {
      "text/plain": [
       "np.int64(957289)"
      ]
     },
     "execution_count": 19,
     "metadata": {},
     "output_type": "execute_result"
    }
   ],
   "source": [
    "from collections import Counter\n",
    "import numpy as np\n",
    "\n",
    "def count_duplicates(data_list, decimals=3, name=\"items\"):\n",
    "    \"\"\"\n",
    "    Counts and displays the top duplicates in a list of waveguides or parameters.\n",
    "\n",
    "    Args:\n",
    "        data_list: List of numpy arrays (e.g., waveguides or params).\n",
    "        decimals: Decimal rounding for comparison.\n",
    "        name: String label for the item type (for printout).\n",
    "    \"\"\"\n",
    "    rounded_data = []\n",
    "\n",
    "    for item in tqdm(data_list, desc='Counting Duplicates'):\n",
    "        arr = np.round(np.array(item), decimals=decimals)\n",
    "        tup = tuple(arr.flatten())  # Flatten to 1D and convert to tuple\n",
    "        rounded_data.append(tup)\n",
    "\n",
    "    counter = Counter(rounded_data)\n",
    "    duplicates = {k: v for k, v in counter.items() if v > 1}\n",
    "\n",
    "    print(f\"Total unique {name}: {len(counter)}\")\n",
    "    print(f\"Number of repeated {name}: {len(duplicates)}\")\n",
    "    print(f\"Top 10 repeated {name} (rounded to {decimals} decimals):\")\n",
    "    top_duplicates = sorted(duplicates.items(), key=lambda item: item[1], reverse=True)[:10]\n",
    "    for val, count in top_duplicates:\n",
    "        print(f\"Item (hashable view): {val[:5]}... ({len(val)} elements), Count: {count}\")\n",
    "\n",
    "import torch\n",
    "\n",
    "def flatten_batches(tensor_list):\n",
    "    \"\"\"\n",
    "    Takes a list of batched tensors (e.g. shape [B, 1, 32, 32]) and flattens into a list of individual items (shape [1, 32, 32]).\n",
    "    \"\"\"\n",
    "    flattened = []\n",
    "    for batch in tqdm(tensor_list, desc='Flattening'):\n",
    "        if isinstance(batch, torch.Tensor):\n",
    "            batch = batch.cpu().numpy()  # convert to NumPy if needed\n",
    "        for i in range(batch.shape[0]):\n",
    "            flattened.append(batch[i])  # shape (1, 32, 32)\n",
    "    return flattened\n",
    "\n",
    "import numpy as np\n",
    "\n",
    "def count_not_descending(flattened_batch):\n",
    "    \"\"\"\n",
    "    Counts how many items in a flattened batch are not sorted in descending order.\n",
    "\n",
    "    Args:\n",
    "        flattened_batch (list or np.ndarray): A list of 1D numpy arrays or tensors, e.g. [(4,), (4,), ...]\n",
    "\n",
    "    Returns:\n",
    "        int: Number of items not in descending order\n",
    "    \"\"\"\n",
    "    count = 0\n",
    "    for item in tqdm(flattened_batch):\n",
    "        arr = np.array(item).flatten()\n",
    "        if not np.all(arr[:-1] >= arr[1:]):\n",
    "            count += 1\n",
    "    print(f\"Total number of items: {len(flattened_batch)}\")\n",
    "    print(f\"Total number of non-ordered lists: {count}\")\n",
    "    return count\n",
    "\n",
    "import numpy as np\n",
    "\n",
    "def count_total_weight_above_threshold(flat_weights, n_per_sample=4, threshold=90):\n",
    "    \"\"\"\n",
    "    Count how many samples have total weight above a threshold.\n",
    "    \"\"\"\n",
    "    flat_weights = np.array(flat_weights)\n",
    "    assert flat_weights.shape[1] == n_per_sample, f\"Expected {n_per_sample} per sample, got shape {flat_weights.shape}\"\n",
    "\n",
    "    total_weights = flat_weights.sum(axis=1)\n",
    "    count = np.sum(total_weights > threshold)\n",
    "    print(f'total number of items: {len(flat_weights)}')\n",
    "    print(f\"Total items above {threshold}% threshold: {count}\")\n",
    "    print(f\"Percentage of total data bove {threshold}% threshold: {(count/len(flat_weights))*100:.2f}%\")\n",
    "    return count\n",
    "\n",
    "\n",
    "\n",
    "\n",
    "# print(len(flatten_batches(all_modes)))\n",
    "# count_not_descending(flatten_batches(all_modes))\n",
    "# count_not_descending(flatten_batches(all_weights))\n",
    "count_total_weight_above_threshold(flatten_batches(all_weights), 4, 90)\n",
    "count_total_weight_above_threshold(flatten_batches(all_weights), 4, 85)\n",
    "count_total_weight_above_threshold(flatten_batches(all_weights), 4, 80)"
   ]
  },
  {
   "cell_type": "code",
   "execution_count": 3,
   "metadata": {},
   "outputs": [
    {
     "data": {
      "text/plain": [
       "Text(0, 0.5, 'Loss on test set')"
      ]
     },
     "execution_count": 3,
     "metadata": {},
     "output_type": "execute_result"
    },
    {
     "data": {
      "image/png": "[encoded data removed]",
      "text/plain": [
       "<Figure size 640x480 with 1 Axes>"
      ]
     },
     "metadata": {},
     "output_type": "display_data"
    }
   ],
   "source": [
    "loss = [.2159, .2016, .1954, .1987, .1902, .1867, .1876, .1875, .1851, .1818, .1803, .1822, .1757, .1764, .1761, .1743, .1754, .1770, .1739, .1745]\n",
    "plt.plot(range(20), loss)\n",
    "plt.title(\"Loss vs Epoch, ordered modes\")\n",
    "plt.xlabel('Epoch #')\n",
    "plt.ylabel('Loss on test set')"
   ]
  }
 ],
 "metadata": {
  "kernelspec": {
   "display_name": "Python 3.11.1 64-bit ('3.11.1')",
   "language": "python",
   "name": "python3"
  },
  "language_info": {
   "codemirror_mode": {
    "name": "ipython",
    "version": 3
   },
   "file_extension": ".py",
   "mimetype": "text/x-python",
   "name": "python",
   "nbconvert_exporter": "python",
   "pygments_lexer": "ipython3",
   "version": "3.11.1"
  },
  "orig_nbformat": 4,
  "vscode": {
   "interpreter": {
    "hash": "904b27c75b92146183e9f1345c638188bb604f0e4fe123b9be54acbb552124e7"
   }
  }
 },
 "nbformat": 4,
 "nbformat_minor": 2
}
